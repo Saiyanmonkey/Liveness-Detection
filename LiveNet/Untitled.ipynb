{
 "cells": [
  {
   "cell_type": "code",
   "execution_count": 1,
   "id": "0458c1c4",
   "metadata": {},
   "outputs": [],
   "source": [
    "#import\n",
    "from tensorflow.keras.models import Sequential\n",
    "from tensorflow.keras.layers import BatchNormalization\n",
    "from tensorflow.keras.layers import Conv2D\n",
    "from tensorflow.keras.layers import MaxPooling2D\n",
    "from tensorflow.keras.layers import Activation\n",
    "from tensorflow.keras.layers import Flatten\n",
    "from tensorflow.keras.layers import Dropout\n",
    "from tensorflow.keras.layers import Dense\n",
    "from tensorflow.keras import backend as K"
   ]
  },
  {
   "cell_type": "code",
   "execution_count": 2,
   "id": "c2e1be3c",
   "metadata": {},
   "outputs": [],
   "source": [
    "class LivenessNet:\n",
    "    @staticmethod\n",
    "    def build(width,height,depth,classes):\n",
    "        #initialise the models along with the input shape \n",
    "        #to be \"channels last\" and the channel dimension itself\n",
    "        model = Sequential()\n",
    "        inputShape = (height,width,depth)\n",
    "        channelDim = -1\n",
    "        \n",
    "        #if use \"channel first\", update input shape\n",
    "        #and channel dimension\n",
    "        if K.image_data_format() == \"channels_first\":\n",
    "            inputShape = (depth,height,width)\n",
    "            channelDim = 1\n",
    "            \n",
    "        #Adding Layers\n",
    "        # First CONV ==> RELU ==> CONV ==> RELU ==> POOL\n",
    "        model.add(Conv2D(16,(3,3),padding=\"same\",input_shape=inputShape))\n",
    "        model.add(Activation(\"relu\"))\n",
    "        model.add(BatchNormalization(axis=channelDim))\n",
    "        \n",
    "        model.add(Conv2D(16,(3,3),padding=\"same\"))\n",
    "        model.add(Activation(\"relu\"))\n",
    "        model.add(BatchNormalization(axis=channelDim))\n",
    "        \n",
    "        model.add(MaxPooling2D(pool_size=(2,2)))\n",
    "        model.add(Dropout(0.25))\n",
    "        \n",
    "        # Second CONV ==> RELU ==> CONV ==> RELU ==> POOL\n",
    "        #model.add(Conv2D(32,(3,3),padding=\"same\"))\n",
    "        #model.add(Activation(\"relu\"))\n",
    "        #model.add(BatchNormalization(axis=channelDim))\n",
    "        \n",
    "        #model.add(Conv2D(32,(3,3),padding=\"same\"))\n",
    "        #model.add(Activation(\"relu\"))\n",
    "        #model.add(BatchNormalization(axis=channelDim))\n",
    "        \n",
    "        #model.add(MaxPooling2D(pool_size=(2,2)))\n",
    "        #model.add(Dropout(0.25))\n",
    "        \n",
    "        # Final CONV ==> RELU ==> CONV ==> RELU ==> POOL\n",
    "        model.add(Conv2D(32,(3,3),padding=\"same\"))\n",
    "        model.add(Activation(\"relu\"))\n",
    "        model.add(BatchNormalization(axis=channelDim))\n",
    "        \n",
    "        model.add(Conv2D(32,(3,3),padding=\"same\"))\n",
    "        model.add(Activation(\"relu\"))\n",
    "        model.add(BatchNormalization(axis=channelDim))\n",
    "        \n",
    "        model.add(MaxPooling2D(pool_size=(2,2)))\n",
    "        model.add(Dropout(0.25))\n",
    "        \n",
    "        #first and only set of FC ==> RELU\n",
    "        model.add(Flatten())\n",
    "        model.add(Dense(64))\n",
    "        model.add(Activation(\"relu\"))\n",
    "        model.add(BatchNormalization())\n",
    "        model.add(Dropout(0.5))\n",
    "        \n",
    "        #softmac classifier\n",
    "        model.add(Dense(classes))\n",
    "        model.add(Activation(\"softmax\"))\n",
    "        \n",
    "        return model\n",
    "        \n",
    "        \n",
    "        "
   ]
  },
  {
   "cell_type": "code",
   "execution_count": 4,
   "id": "212e567f",
   "metadata": {},
   "outputs": [],
   "source": [
    "from tensorflow.keras.utils import plot_model"
   ]
  },
  {
   "cell_type": "code",
   "execution_count": null,
   "id": "50f83bf7",
   "metadata": {},
   "outputs": [],
   "source": []
  }
 ],
 "metadata": {
  "kernelspec": {
   "display_name": "Python 3 (ipykernel)",
   "language": "python",
   "name": "python3"
  },
  "language_info": {
   "codemirror_mode": {
    "name": "ipython",
    "version": 3
   },
   "file_extension": ".py",
   "mimetype": "text/x-python",
   "name": "python",
   "nbconvert_exporter": "python",
   "pygments_lexer": "ipython3",
   "version": "3.7.11"
  }
 },
 "nbformat": 4,
 "nbformat_minor": 5
}
